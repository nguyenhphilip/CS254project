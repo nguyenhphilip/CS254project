{
 "cells": [
  {
   "cell_type": "code",
   "execution_count": 127,
   "metadata": {},
   "outputs": [],
   "source": [
    "# Standard imports\n",
    "import pandas as pd\n",
    "import numpy as np\n",
    "import matplotlib.pyplot as plt\n",
    "import seaborn as sn\n",
    "\n",
    "from sklearn.ensemble import RandomForestRegressor\n",
    "from sklearn.model_selection import GroupShuffleSplit\n",
    "from sklearn.model_selection import train_test_split, cross_val_score, ShuffleSplit, GridSearchCV, LeaveOneOut\n",
    "from sklearn.preprocessing import StandardScaler, MinMaxScaler\n",
    "from sklearn import linear_model\n",
    "from sklearn.metrics import accuracy_score, r2_score\n",
    "from sklearn.model_selection import GridSearchCV\n",
    "from sklearn.model_selection import LeaveOneGroupOut"
   ]
  },
  {
   "cell_type": "code",
   "execution_count": 250,
   "metadata": {},
   "outputs": [
    {
     "data": {
      "image/png": "[encoded data removed]",
      "text/plain": [
       "<Figure size 432x288 with 2 Axes>"
      ]
     },
     "metadata": {
      "needs_background": "light"
     },
     "output_type": "display_data"
    }
   ],
   "source": [
    "# initial data and correlation plot\n",
    "data = pd.read_csv('data/QuasiMVCData.csv', index_col='Subject_all')\n",
    "sn.heatmap(data.corr(), annot=True)\n",
    "plt.show()"
   ]
  },
  {
   "cell_type": "markdown",
   "metadata": {},
   "source": [
    "# Linear Regression Models"
   ]
  },
  {
   "cell_type": "code",
   "execution_count": 251,
   "metadata": {},
   "outputs": [
    {
     "data": {
      "text/html": [
       "<div>\n",
       "<style scoped>\n",
       "    .dataframe tbody tr th:only-of-type {\n",
       "        vertical-align: middle;\n",
       "    }\n",
       "\n",
       "    .dataframe tbody tr th {\n",
       "        vertical-align: top;\n",
       "    }\n",
       "\n",
       "    .dataframe thead th {\n",
       "        text-align: right;\n",
       "    }\n",
       "</style>\n",
       "<table border=\"1\" class=\"dataframe\">\n",
       "  <thead>\n",
       "    <tr style=\"text-align: right;\">\n",
       "      <th></th>\n",
       "      <th>MeanMVC_all</th>\n",
       "      <th>StrideTime_all</th>\n",
       "      <th>WalkingAmp_all</th>\n",
       "      <th>NumberofBursts_all</th>\n",
       "    </tr>\n",
       "    <tr>\n",
       "      <th>Subject_all</th>\n",
       "      <th></th>\n",
       "      <th></th>\n",
       "      <th></th>\n",
       "      <th></th>\n",
       "    </tr>\n",
       "  </thead>\n",
       "  <tbody>\n",
       "    <tr>\n",
       "      <th>S0001</th>\n",
       "      <td>0.000304</td>\n",
       "      <td>1.159416</td>\n",
       "      <td>0.000040</td>\n",
       "      <td>3</td>\n",
       "    </tr>\n",
       "    <tr>\n",
       "      <th>S0003</th>\n",
       "      <td>0.000157</td>\n",
       "      <td>1.238810</td>\n",
       "      <td>0.000012</td>\n",
       "      <td>2</td>\n",
       "    </tr>\n",
       "    <tr>\n",
       "      <th>S0005</th>\n",
       "      <td>0.000106</td>\n",
       "      <td>1.007291</td>\n",
       "      <td>0.000023</td>\n",
       "      <td>5</td>\n",
       "    </tr>\n",
       "    <tr>\n",
       "      <th>S0010</th>\n",
       "      <td>0.000314</td>\n",
       "      <td>1.161713</td>\n",
       "      <td>0.000027</td>\n",
       "      <td>3</td>\n",
       "    </tr>\n",
       "    <tr>\n",
       "      <th>S0014</th>\n",
       "      <td>0.000265</td>\n",
       "      <td>1.345517</td>\n",
       "      <td>0.000259</td>\n",
       "      <td>4</td>\n",
       "    </tr>\n",
       "    <tr>\n",
       "      <th>S0015</th>\n",
       "      <td>0.000189</td>\n",
       "      <td>1.045036</td>\n",
       "      <td>0.000030</td>\n",
       "      <td>4</td>\n",
       "    </tr>\n",
       "    <tr>\n",
       "      <th>S0016</th>\n",
       "      <td>0.000127</td>\n",
       "      <td>0.901700</td>\n",
       "      <td>0.000023</td>\n",
       "      <td>6</td>\n",
       "    </tr>\n",
       "    <tr>\n",
       "      <th>S0017</th>\n",
       "      <td>0.000460</td>\n",
       "      <td>1.169770</td>\n",
       "      <td>0.000027</td>\n",
       "      <td>3</td>\n",
       "    </tr>\n",
       "    <tr>\n",
       "      <th>S0021</th>\n",
       "      <td>0.000147</td>\n",
       "      <td>1.072038</td>\n",
       "      <td>0.000024</td>\n",
       "      <td>4</td>\n",
       "    </tr>\n",
       "    <tr>\n",
       "      <th>S0023</th>\n",
       "      <td>0.000371</td>\n",
       "      <td>1.141067</td>\n",
       "      <td>0.000036</td>\n",
       "      <td>2</td>\n",
       "    </tr>\n",
       "    <tr>\n",
       "      <th>S0025</th>\n",
       "      <td>0.000302</td>\n",
       "      <td>1.023483</td>\n",
       "      <td>0.000018</td>\n",
       "      <td>6</td>\n",
       "    </tr>\n",
       "    <tr>\n",
       "      <th>S0026</th>\n",
       "      <td>0.000168</td>\n",
       "      <td>1.127716</td>\n",
       "      <td>0.000038</td>\n",
       "      <td>3</td>\n",
       "    </tr>\n",
       "    <tr>\n",
       "      <th>S0029</th>\n",
       "      <td>0.000396</td>\n",
       "      <td>1.087580</td>\n",
       "      <td>0.000232</td>\n",
       "      <td>1</td>\n",
       "    </tr>\n",
       "    <tr>\n",
       "      <th>S0030</th>\n",
       "      <td>0.000145</td>\n",
       "      <td>1.064315</td>\n",
       "      <td>0.000030</td>\n",
       "      <td>5</td>\n",
       "    </tr>\n",
       "    <tr>\n",
       "      <th>S0031</th>\n",
       "      <td>0.000137</td>\n",
       "      <td>1.132229</td>\n",
       "      <td>0.000014</td>\n",
       "      <td>4</td>\n",
       "    </tr>\n",
       "    <tr>\n",
       "      <th>S0032</th>\n",
       "      <td>0.000122</td>\n",
       "      <td>1.058447</td>\n",
       "      <td>0.000022</td>\n",
       "      <td>4</td>\n",
       "    </tr>\n",
       "    <tr>\n",
       "      <th>S0033</th>\n",
       "      <td>0.000166</td>\n",
       "      <td>1.186102</td>\n",
       "      <td>0.000021</td>\n",
       "      <td>1</td>\n",
       "    </tr>\n",
       "    <tr>\n",
       "      <th>S0034</th>\n",
       "      <td>0.000207</td>\n",
       "      <td>1.152879</td>\n",
       "      <td>0.000020</td>\n",
       "      <td>5</td>\n",
       "    </tr>\n",
       "    <tr>\n",
       "      <th>S0035</th>\n",
       "      <td>0.000135</td>\n",
       "      <td>1.087804</td>\n",
       "      <td>0.000031</td>\n",
       "      <td>2</td>\n",
       "    </tr>\n",
       "    <tr>\n",
       "      <th>S0036</th>\n",
       "      <td>0.000133</td>\n",
       "      <td>1.078766</td>\n",
       "      <td>0.000038</td>\n",
       "      <td>1</td>\n",
       "    </tr>\n",
       "    <tr>\n",
       "      <th>S0037</th>\n",
       "      <td>0.000171</td>\n",
       "      <td>1.270274</td>\n",
       "      <td>0.000013</td>\n",
       "      <td>9</td>\n",
       "    </tr>\n",
       "  </tbody>\n",
       "</table>\n",
       "</div>"
      ],
      "text/plain": [
       "             MeanMVC_all  StrideTime_all  WalkingAmp_all  NumberofBursts_all\n",
       "Subject_all                                                                 \n",
       "S0001           0.000304        1.159416        0.000040                   3\n",
       "S0003           0.000157        1.238810        0.000012                   2\n",
       "S0005           0.000106        1.007291        0.000023                   5\n",
       "S0010           0.000314        1.161713        0.000027                   3\n",
       "S0014           0.000265        1.345517        0.000259                   4\n",
       "S0015           0.000189        1.045036        0.000030                   4\n",
       "S0016           0.000127        0.901700        0.000023                   6\n",
       "S0017           0.000460        1.169770        0.000027                   3\n",
       "S0021           0.000147        1.072038        0.000024                   4\n",
       "S0023           0.000371        1.141067        0.000036                   2\n",
       "S0025           0.000302        1.023483        0.000018                   6\n",
       "S0026           0.000168        1.127716        0.000038                   3\n",
       "S0029           0.000396        1.087580        0.000232                   1\n",
       "S0030           0.000145        1.064315        0.000030                   5\n",
       "S0031           0.000137        1.132229        0.000014                   4\n",
       "S0032           0.000122        1.058447        0.000022                   4\n",
       "S0033           0.000166        1.186102        0.000021                   1\n",
       "S0034           0.000207        1.152879        0.000020                   5\n",
       "S0035           0.000135        1.087804        0.000031                   2\n",
       "S0036           0.000133        1.078766        0.000038                   1\n",
       "S0037           0.000171        1.270274        0.000013                   9"
      ]
     },
     "execution_count": 251,
     "metadata": {},
     "output_type": "execute_result"
    }
   ],
   "source": [
    "data"
   ]
  },
  {
   "cell_type": "code",
   "execution_count": 281,
   "metadata": {},
   "outputs": [],
   "source": [
    "X = data[['StrideTime_all', 'WalkingAmp_all', 'NumberofBursts_all']].values\n",
    "y = data['MeanMVC_all'].values"
   ]
  },
  {
   "cell_type": "code",
   "execution_count": 282,
   "metadata": {},
   "outputs": [
    {
     "data": {
      "text/plain": [
       "-0.07174679708693166"
      ]
     },
     "execution_count": 282,
     "metadata": {},
     "output_type": "execute_result"
    }
   ],
   "source": [
    "# split data and run initial LR model\n",
    "x_train, x_val, y_train, y_val = train_test_split(X, y, test_size=0.2, random_state=42)\n",
    "lr = linear_model.LinearRegression().fit(x_train, y_train)\n",
    "lr.score(x_val, y_val)"
   ]
  },
  {
   "cell_type": "code",
   "execution_count": 283,
   "metadata": {},
   "outputs": [
    {
     "data": {
      "text/plain": [
       "0.2195267622581497"
      ]
     },
     "execution_count": 283,
     "metadata": {},
     "output_type": "execute_result"
    }
   ],
   "source": [
    "# run Random Forest Regression\n",
    "rfr = RandomForestRegressor(random_state=3).fit(x_train, y_train)\n",
    "rfr.score(x_val, y_val)"
   ]
  },
  {
   "cell_type": "code",
   "execution_count": 254,
   "metadata": {},
   "outputs": [
    {
     "name": "stdout",
     "output_type": "stream",
     "text": [
      "R2: -0.55322\n"
     ]
    }
   ],
   "source": [
    "# run LeaveOneOut with Linear Regression\n",
    "\n",
    "cv = LeaveOneOut()\n",
    "# enumerate splits\n",
    "y_true, y_pred = list(), list()\n",
    "for train_ix, test_ix in cv.split(X):\n",
    "    X_train, X_val = X[train_ix, :], X[test_ix, :]\n",
    "    y_train, y_val = y[train_ix], y[test_ix]\n",
    "    model = linear_model.LinearRegression()\n",
    "    model.fit(X_train, y_train)\n",
    "    # evaluate model\n",
    "    yhat = model.predict(X_test)\n",
    "    # store\n",
    "    y_true.append(y_val[0])\n",
    "    y_pred.append(yhat[0])\n",
    "# calculate accuracy\n",
    "acc = r2_score(y_true, y_pred)\n",
    "print('R2: %.5f' % acc)"
   ]
  },
  {
   "cell_type": "code",
   "execution_count": 255,
   "metadata": {},
   "outputs": [
    {
     "name": "stdout",
     "output_type": "stream",
     "text": [
      "R2: -0.17849\n"
     ]
    }
   ],
   "source": [
    "# run LeaveOneOut with Random Forest Regression\n",
    "cv = LeaveOneOut()\n",
    "# enumerate splits\n",
    "y_true, y_pred = list(), list()\n",
    "for train_ix, test_ix in cv.split(X):\n",
    "    X_train, X_val = X[train_ix, :], X[test_ix, :]\n",
    "    y_train, y_val = y[train_ix], y[test_ix]\n",
    "    model = RandomForestRegressor(random_state=1)\n",
    "    model.fit(X_train, y_train)\n",
    "    # evaluate model\n",
    "    yhat = model.predict(X_val)\n",
    "    # store\n",
    "    y_true.append(y_val[0])\n",
    "    y_pred.append(yhat[0])\n",
    "# calculate accuracy\n",
    "acc = r2_score(y_true, y_pred)\n",
    "print('R2: %.5f' % acc)"
   ]
  },
  {
   "cell_type": "markdown",
   "metadata": {},
   "source": [
    "### 316 data"
   ]
  },
  {
   "cell_type": "code",
   "execution_count": 228,
   "metadata": {},
   "outputs": [],
   "source": [
    "# New dataset we computed with more stride samples\n",
    "\n",
    "data_316 = pd.read_csv('data/QuasiMVCData0316.csv')\n",
    "X = data_316[['StrideTime_all', 'WalkingAmp_all', 'NumberofBursts_all']].values\n",
    "y = data_316[['MeanMVC_all']].values.ravel()\n",
    "groups = data_316[['Subject_all']].values.ravel() # create groups for Leave One Group Out"
   ]
  },
  {
   "cell_type": "code",
   "execution_count": 231,
   "metadata": {},
   "outputs": [],
   "source": [
    "# Split data while keeping groups together\n",
    "train_idx, test_idx = next(GroupShuffleSplit(n_splits=2, test_size=0.2, random_state=1).split(X, y, groups=groups))"
   ]
  },
  {
   "cell_type": "code",
   "execution_count": 236,
   "metadata": {},
   "outputs": [],
   "source": [
    "# Train set - use for training and validation\n",
    "train_data316 = data_316.iloc[train_idx]\n",
    "#train_data316.to_csv('data/traindata_316.csv')"
   ]
  },
  {
   "cell_type": "code",
   "execution_count": 235,
   "metadata": {},
   "outputs": [],
   "source": [
    "# Test set. No touchy until done tuning models... \n",
    "test_data316 = data_316.iloc[test_idx]\n",
    "#test_data316.to_csv('data/testdata_316.csv')"
   ]
  },
  {
   "cell_type": "code",
   "execution_count": 264,
   "metadata": {},
   "outputs": [
    {
     "data": {
      "text/html": [
       "<div>\n",
       "<style scoped>\n",
       "    .dataframe tbody tr th:only-of-type {\n",
       "        vertical-align: middle;\n",
       "    }\n",
       "\n",
       "    .dataframe tbody tr th {\n",
       "        vertical-align: top;\n",
       "    }\n",
       "\n",
       "    .dataframe thead th {\n",
       "        text-align: right;\n",
       "    }\n",
       "</style>\n",
       "<table border=\"1\" class=\"dataframe\">\n",
       "  <thead>\n",
       "    <tr style=\"text-align: right;\">\n",
       "      <th></th>\n",
       "      <th>Subject_all</th>\n",
       "      <th>MeanMVC_all</th>\n",
       "      <th>StrideTime_all</th>\n",
       "      <th>WalkingAmp_all</th>\n",
       "      <th>NumberofBursts_all</th>\n",
       "    </tr>\n",
       "  </thead>\n",
       "  <tbody>\n",
       "    <tr>\n",
       "      <th>0</th>\n",
       "      <td>1</td>\n",
       "      <td>0.000305</td>\n",
       "      <td>1.108504</td>\n",
       "      <td>0.000024</td>\n",
       "      <td>4</td>\n",
       "    </tr>\n",
       "    <tr>\n",
       "      <th>1</th>\n",
       "      <td>1</td>\n",
       "      <td>0.000305</td>\n",
       "      <td>1.119906</td>\n",
       "      <td>0.000035</td>\n",
       "      <td>4</td>\n",
       "    </tr>\n",
       "    <tr>\n",
       "      <th>2</th>\n",
       "      <td>1</td>\n",
       "      <td>0.000305</td>\n",
       "      <td>1.077504</td>\n",
       "      <td>0.000033</td>\n",
       "      <td>2</td>\n",
       "    </tr>\n",
       "    <tr>\n",
       "      <th>3</th>\n",
       "      <td>1</td>\n",
       "      <td>0.000305</td>\n",
       "      <td>1.055285</td>\n",
       "      <td>0.000023</td>\n",
       "      <td>5</td>\n",
       "    </tr>\n",
       "    <tr>\n",
       "      <th>4</th>\n",
       "      <td>1</td>\n",
       "      <td>0.000305</td>\n",
       "      <td>1.080877</td>\n",
       "      <td>0.000028</td>\n",
       "      <td>3</td>\n",
       "    </tr>\n",
       "    <tr>\n",
       "      <th>...</th>\n",
       "      <td>...</td>\n",
       "      <td>...</td>\n",
       "      <td>...</td>\n",
       "      <td>...</td>\n",
       "      <td>...</td>\n",
       "    </tr>\n",
       "    <tr>\n",
       "      <th>1180</th>\n",
       "      <td>31</td>\n",
       "      <td>0.000472</td>\n",
       "      <td>1.116931</td>\n",
       "      <td>0.000027</td>\n",
       "      <td>5</td>\n",
       "    </tr>\n",
       "    <tr>\n",
       "      <th>1181</th>\n",
       "      <td>31</td>\n",
       "      <td>0.000472</td>\n",
       "      <td>1.116417</td>\n",
       "      <td>0.000022</td>\n",
       "      <td>2</td>\n",
       "    </tr>\n",
       "    <tr>\n",
       "      <th>1182</th>\n",
       "      <td>31</td>\n",
       "      <td>0.000472</td>\n",
       "      <td>1.119221</td>\n",
       "      <td>0.000037</td>\n",
       "      <td>4</td>\n",
       "    </tr>\n",
       "    <tr>\n",
       "      <th>1183</th>\n",
       "      <td>31</td>\n",
       "      <td>0.000472</td>\n",
       "      <td>1.107825</td>\n",
       "      <td>0.000027</td>\n",
       "      <td>5</td>\n",
       "    </tr>\n",
       "    <tr>\n",
       "      <th>1220</th>\n",
       "      <td>33</td>\n",
       "      <td>0.000355</td>\n",
       "      <td>0.901361</td>\n",
       "      <td>0.000021</td>\n",
       "      <td>6</td>\n",
       "    </tr>\n",
       "  </tbody>\n",
       "</table>\n",
       "<p>983 rows × 5 columns</p>\n",
       "</div>"
      ],
      "text/plain": [
       "      Subject_all  MeanMVC_all  StrideTime_all  WalkingAmp_all  \\\n",
       "0               1     0.000305        1.108504        0.000024   \n",
       "1               1     0.000305        1.119906        0.000035   \n",
       "2               1     0.000305        1.077504        0.000033   \n",
       "3               1     0.000305        1.055285        0.000023   \n",
       "4               1     0.000305        1.080877        0.000028   \n",
       "...           ...          ...             ...             ...   \n",
       "1180           31     0.000472        1.116931        0.000027   \n",
       "1181           31     0.000472        1.116417        0.000022   \n",
       "1182           31     0.000472        1.119221        0.000037   \n",
       "1183           31     0.000472        1.107825        0.000027   \n",
       "1220           33     0.000355        0.901361        0.000021   \n",
       "\n",
       "      NumberofBursts_all  \n",
       "0                      4  \n",
       "1                      4  \n",
       "2                      2  \n",
       "3                      5  \n",
       "4                      3  \n",
       "...                  ...  \n",
       "1180                   5  \n",
       "1181                   2  \n",
       "1182                   4  \n",
       "1183                   5  \n",
       "1220                   6  \n",
       "\n",
       "[983 rows x 5 columns]"
      ]
     },
     "execution_count": 264,
     "metadata": {},
     "output_type": "execute_result"
    }
   ],
   "source": [
    "train_data316"
   ]
  },
  {
   "cell_type": "code",
   "execution_count": 271,
   "metadata": {},
   "outputs": [],
   "source": [
    "# Grab features and store as X, y, groups\n",
    "X = train_data316[['StrideTime_all', 'WalkingAmp_all', 'NumberofBursts_all']].values\n",
    "y = train_data316[['MeanMVC_all']].values.ravel()\n",
    "groups = train_data316[['Subject_all']].values.ravel()"
   ]
  },
  {
   "cell_type": "code",
   "execution_count": 272,
   "metadata": {},
   "outputs": [
    {
     "name": "stdout",
     "output_type": "stream",
     "text": [
      "R2: 0.296\n"
     ]
    }
   ],
   "source": [
    "# Leave One Out using updated data (Random Forest)\n",
    "cv = LeaveOneOut()\n",
    "# enumerate splits\n",
    "y_true, y_pred = list(), list()\n",
    "for train_ix, val_ix in cv.split(X):\n",
    "    X_train, X_val = X[train_ix, :], X[val_ix, :]\n",
    "    y_train, y_val = y.ravel()[train_ix], y.ravel()[val_ix]\n",
    "    model = RandomForestRegressor(random_state=1)\n",
    "    model.fit(X_train, y_train)\n",
    "    # evaluate model\n",
    "    yhat = model.predict(X_val)\n",
    "    # store\n",
    "    y_true.append(y_val[0])\n",
    "    y_pred.append(yhat[0])\n",
    "# calculate accuracy\n",
    "acc = r2_score(y_true, y_pred)\n",
    "print('R2: %.3f' % acc)"
   ]
  },
  {
   "cell_type": "code",
   "execution_count": 273,
   "metadata": {},
   "outputs": [
    {
     "data": {
      "text/plain": [
       "Text(0, 0.5, 'predicted values')"
      ]
     },
     "execution_count": 273,
     "metadata": {},
     "output_type": "execute_result"
    },
    {
     "data": {
      "image/png": "[encoded data removed]",
      "text/plain": [
       "<Figure size 432x288 with 1 Axes>"
      ]
     },
     "metadata": {
      "needs_background": "light"
     },
     "output_type": "display_data"
    }
   ],
   "source": [
    "plt.scatter(y_true, y_pred)\n",
    "plt.xlabel('true values')\n",
    "plt.ylabel('predicted values')"
   ]
  },
  {
   "cell_type": "code",
   "execution_count": 276,
   "metadata": {},
   "outputs": [
    {
     "name": "stdout",
     "output_type": "stream",
     "text": [
      "R2: 0.091\n"
     ]
    }
   ],
   "source": [
    "# Leave One Out using updated data (Linear Regression)\n",
    "\n",
    "cv = LeaveOneOut()\n",
    "# enumerate splits\n",
    "y_true, y_pred = list(), list()\n",
    "for train_ix, val_ix in cv.split(X):\n",
    "    X_train, X_val = X[train_ix, :], X[val_ix, :]\n",
    "    y_train, y_val = y.ravel()[train_ix], y.ravel()[val_ix]\n",
    "    model = linear_model.LinearRegression()\n",
    "    model.fit(X_train, y_train)\n",
    "    # evaluate model\n",
    "    yhat = model.predict(X_val)\n",
    "    # store\n",
    "    y_true.append(y_val[0])\n",
    "    y_pred.append(yhat[0])\n",
    "# calculate accuracy\n",
    "acc = r2_score(y_true, y_pred)\n",
    "print('R2: %.3f' % acc)"
   ]
  },
  {
   "cell_type": "code",
   "execution_count": 277,
   "metadata": {},
   "outputs": [
    {
     "data": {
      "text/plain": [
       "Text(0, 0.5, 'predicted values')"
      ]
     },
     "execution_count": 277,
     "metadata": {},
     "output_type": "execute_result"
    },
    {
     "data": {
      "image/png": "[encoded data removed]",
      "text/plain": [
       "<Figure size 432x288 with 1 Axes>"
      ]
     },
     "metadata": {
      "needs_background": "light"
     },
     "output_type": "display_data"
    }
   ],
   "source": [
    "plt.scatter(y_true, y_pred)\n",
    "plt.xlabel('true values')\n",
    "plt.ylabel('predicted values')"
   ]
  },
  {
   "cell_type": "code",
   "execution_count": 278,
   "metadata": {},
   "outputs": [
    {
     "name": "stdout",
     "output_type": "stream",
     "text": [
      "R2: -5.495\n"
     ]
    }
   ],
   "source": [
    "# Leave One GROUP Out using updated data (Random Forest) \n",
    "\n",
    "logo = LeaveOneGroupOut().split(X, y, groups=groups)\n",
    "# enumerate splits\n",
    "y_true, y_pred = list(), list()\n",
    "for train_ix, val_ix in logo:\n",
    "    X_train, X_val = X[train_ix, :], X[val_ix, :]\n",
    "    y_train, y_val = y.ravel()[train_ix], y.ravel()[val_ix]\n",
    "    model = linear_model.LinearRegression()\n",
    "    model.fit(X_train, y_train)\n",
    "    # evaluate model\n",
    "    yhat = model.predict(X_val)\n",
    "    # store\n",
    "    y_true.append(y_val[0])\n",
    "    y_pred.append(yhat[0])\n",
    "# calculate accuracy\n",
    "acc = r2_score(y_true, y_pred)\n",
    "print('R2: %.3f' % acc)"
   ]
  },
  {
   "cell_type": "code",
   "execution_count": 279,
   "metadata": {},
   "outputs": [
    {
     "data": {
      "text/plain": [
       "Text(0, 0.5, 'predicted values')"
      ]
     },
     "execution_count": 279,
     "metadata": {},
     "output_type": "execute_result"
    },
    {
     "data": {
      "image/png": "[encoded data removed]",
      "text/plain": [
       "<Figure size 432x288 with 1 Axes>"
      ]
     },
     "metadata": {
      "needs_background": "light"
     },
     "output_type": "display_data"
    }
   ],
   "source": [
    "plt.scatter(y_true, y_pred)\n",
    "plt.xlabel('true values')\n",
    "plt.ylabel('predicted values')"
   ]
  },
  {
   "cell_type": "code",
   "execution_count": 249,
   "metadata": {},
   "outputs": [
    {
     "name": "stdout",
     "output_type": "stream",
     "text": [
      "R2: -0.285\n"
     ]
    }
   ],
   "source": [
    "# Leave One GROUP Out using updated data (Linear Regression) \n",
    "\n",
    "logo = LeaveOneGroupOut().split(X, y, groups=groups)\n",
    "# enumerate splits\n",
    "y_true, y_pred = list(), list()\n",
    "for train_ix, val_ix in logo:\n",
    "    X_train, X_val = X[train_ix, :], X[val_ix, :]\n",
    "    y_train, y_val = y.ravel()[train_ix], y.ravel()[val_ix]\n",
    "    model = RandomForestRegressor(random_state=9)\n",
    "    model.fit(X_train, y_train)\n",
    "    # evaluate model\n",
    "    yhat = model.predict(X_val)\n",
    "    # store\n",
    "    y_true.append(y_val[0])\n",
    "    y_pred.append(yhat[0])\n",
    "# calculate accuracy\n",
    "acc = r2_score(y_true, y_pred)\n",
    "print('R2: %.3f' % acc)"
   ]
  },
  {
   "cell_type": "code",
   "execution_count": 270,
   "metadata": {},
   "outputs": [
    {
     "data": {
      "text/plain": [
       "Text(0, 0.5, 'predicted values')"
      ]
     },
     "execution_count": 270,
     "metadata": {},
     "output_type": "execute_result"
    },
    {
     "data": {
      "image/png": "[encoded data removed]",
      "text/plain": [
       "<Figure size 432x288 with 1 Axes>"
      ]
     },
     "metadata": {
      "needs_background": "light"
     },
     "output_type": "display_data"
    }
   ],
   "source": [
    "plt.scatter(y_true, y_pred)\n",
    "plt.xlabel('true values')\n",
    "plt.ylabel('predicted values')"
   ]
  },
  {
   "cell_type": "code",
   "execution_count": null,
   "metadata": {},
   "outputs": [],
   "source": []
  }
 ],
 "metadata": {
  "kernelspec": {
   "display_name": "Python 3",
   "language": "python",
   "name": "python3"
  },
  "language_info": {
   "codemirror_mode": {
    "name": "ipython",
    "version": 3
   },
   "file_extension": ".py",
   "mimetype": "text/x-python",
   "name": "python",
   "nbconvert_exporter": "python",
   "pygments_lexer": "ipython3",
   "version": "3.8.5"
  }
 },
 "nbformat": 4,
 "nbformat_minor": 4
}
